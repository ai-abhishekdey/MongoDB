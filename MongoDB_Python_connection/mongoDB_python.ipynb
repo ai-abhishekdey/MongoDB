{
 "cells": [
  {
   "cell_type": "markdown",
   "id": "e1a4a51d",
   "metadata": {},
   "source": [
    "### Import pymongo"
   ]
  },
  {
   "cell_type": "code",
   "execution_count": 1,
   "id": "770550f6",
   "metadata": {},
   "outputs": [],
   "source": [
    "import pymongo"
   ]
  },
  {
   "cell_type": "markdown",
   "id": "b6577e65",
   "metadata": {},
   "source": [
    "### Python MongoDB connection"
   ]
  },
  {
   "cell_type": "code",
   "execution_count": 2,
   "id": "a69f1954",
   "metadata": {},
   "outputs": [],
   "source": [
    "client=pymongo.MongoClient(\"mongodb://localhost:27017/\")"
   ]
  },
  {
   "cell_type": "markdown",
   "id": "d8dc98a8",
   "metadata": {},
   "source": [
    "### Create a Database"
   ]
  },
  {
   "cell_type": "code",
   "execution_count": 4,
   "id": "a8910b50",
   "metadata": {},
   "outputs": [],
   "source": [
    "db = client[\"Student_database\"]"
   ]
  },
  {
   "cell_type": "markdown",
   "id": "d55379b8",
   "metadata": {},
   "source": [
    "### Create Collection"
   ]
  },
  {
   "cell_type": "code",
   "execution_count": 5,
   "id": "cf27e389",
   "metadata": {},
   "outputs": [],
   "source": [
    "student_collection=db[\"student_information\"]"
   ]
  },
  {
   "cell_type": "markdown",
   "id": "6cb9bd98",
   "metadata": {},
   "source": [
    "### Insert Single entry in collection"
   ]
  },
  {
   "cell_type": "code",
   "execution_count": 6,
   "id": "3dfb00bd",
   "metadata": {},
   "outputs": [],
   "source": [
    "student_record={\"Name\":\"Rahul Dravid\",\"Roll No\":1,\"Grade\":\"A\"}"
   ]
  },
  {
   "cell_type": "code",
   "execution_count": 7,
   "id": "7732c59a",
   "metadata": {},
   "outputs": [
    {
     "data": {
      "text/plain": [
       "<pymongo.results.InsertOneResult at 0x7f57413eece0>"
      ]
     },
     "execution_count": 7,
     "metadata": {},
     "output_type": "execute_result"
    }
   ],
   "source": [
    "student_collection.insert_one(student_record)"
   ]
  },
  {
   "cell_type": "markdown",
   "id": "fda310bd",
   "metadata": {},
   "source": [
    "### Insert Multiple entries in collection"
   ]
  },
  {
   "cell_type": "code",
   "execution_count": 8,
   "id": "7e7068f4",
   "metadata": {},
   "outputs": [],
   "source": [
    "student_records=[{\"Name\":\"Yuvraj Singh\",\"Roll No\":2,\"Grade\":\"A+\"},{\"Name\":\"Harbhajan Singh\",\"Roll No\":3,\"Grade\":\"A\"}]"
   ]
  },
  {
   "cell_type": "code",
   "execution_count": 9,
   "id": "76999373",
   "metadata": {},
   "outputs": [
    {
     "data": {
      "text/plain": [
       "<pymongo.results.InsertManyResult at 0x7f5741c5e830>"
      ]
     },
     "execution_count": 9,
     "metadata": {},
     "output_type": "execute_result"
    }
   ],
   "source": [
    "student_collection.insert_many(student_records)"
   ]
  },
  {
   "cell_type": "markdown",
   "id": "90593ee4",
   "metadata": {},
   "source": [
    "### Find first occurence from collection "
   ]
  },
  {
   "cell_type": "code",
   "execution_count": 10,
   "id": "ba0c11d8",
   "metadata": {},
   "outputs": [
    {
     "data": {
      "text/plain": [
       "{'_id': ObjectId('641c5736392c728d07c0a627'),\n",
       " 'Name': 'Rahul Dravid',\n",
       " 'Roll No': 1,\n",
       " 'Grade': 'A'}"
      ]
     },
     "execution_count": 10,
     "metadata": {},
     "output_type": "execute_result"
    }
   ],
   "source": [
    "student_collection.find_one()"
   ]
  },
  {
   "cell_type": "markdown",
   "id": "8c874077",
   "metadata": {},
   "source": [
    "### Find all occurences from collection "
   ]
  },
  {
   "cell_type": "code",
   "execution_count": 12,
   "id": "7b0ed8a7",
   "metadata": {},
   "outputs": [
    {
     "name": "stdout",
     "output_type": "stream",
     "text": [
      "{'_id': ObjectId('641c5736392c728d07c0a627'), 'Name': 'Rahul Dravid', 'Roll No': 1, 'Grade': 'A'}\n",
      "{'_id': ObjectId('641c584d392c728d07c0a628'), 'Name': 'Yuvraj Singh', 'Roll No': 2, 'Grade': 'A+'}\n",
      "{'_id': ObjectId('641c584d392c728d07c0a629'), 'Name': 'Harbhajan Singh', 'Roll No': 3, 'Grade': 'A'}\n"
     ]
    }
   ],
   "source": [
    "for i in student_collection.find():\n",
    "    print(i)"
   ]
  },
  {
   "cell_type": "code",
   "execution_count": null,
   "id": "9397071e",
   "metadata": {},
   "outputs": [],
   "source": []
  }
 ],
 "metadata": {
  "kernelspec": {
   "display_name": "Python 3 (ipykernel)",
   "language": "python",
   "name": "python3"
  },
  "language_info": {
   "codemirror_mode": {
    "name": "ipython",
    "version": 3
   },
   "file_extension": ".py",
   "mimetype": "text/x-python",
   "name": "python",
   "nbconvert_exporter": "python",
   "pygments_lexer": "ipython3",
   "version": "3.10.6"
  }
 },
 "nbformat": 4,
 "nbformat_minor": 5
}
